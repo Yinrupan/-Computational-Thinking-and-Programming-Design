{
  "nbformat": 4,
  "nbformat_minor": 0,
  "metadata": {
    "colab": {
      "name": "week6a108260010潘音汝.ipynb",
      "provenance": [],
      "collapsed_sections": []
    },
    "kernelspec": {
      "name": "python3",
      "display_name": "Python 3"
    }
  },
  "cells": [
    {
      "cell_type": "code",
      "metadata": {
        "id": "4jvSGyCQOkMy",
        "colab_type": "code",
        "colab": {
          "base_uri": "https://localhost:8080/",
          "height": 34
        },
        "outputId": "374c7863-cb31-412b-b3ed-6a86d28dc724"
      },
      "source": [
        "上衣=int(input(\"請輸入上衣數量?\"))"
      ],
      "execution_count": 21,
      "outputs": [
        {
          "output_type": "stream",
          "text": [
            "請輸入上衣數量?2\n"
          ],
          "name": "stdout"
        }
      ]
    },
    {
      "cell_type": "code",
      "metadata": {
        "id": "n0qp-10gP6nU",
        "colab_type": "code",
        "colab": {
          "base_uri": "https://localhost:8080/",
          "height": 34
        },
        "outputId": "15937d76-c363-4034-faab-7e9c6cf26f95"
      },
      "source": [
        "褲子=int(input(\"請輸入褲子數量?\"))"
      ],
      "execution_count": 22,
      "outputs": [
        {
          "output_type": "stream",
          "text": [
            "請輸入褲子數量?3\n"
          ],
          "name": "stdout"
        }
      ]
    },
    {
      "cell_type": "code",
      "metadata": {
        "id": "dy9uOIqXQU3b",
        "colab_type": "code",
        "colab": {
          "base_uri": "https://localhost:8080/",
          "height": 34
        },
        "outputId": "00690c7c-5afa-4240-d50e-af2c4a3daba3"
      },
      "source": [
        "背心=int(input(\"請輸入背心數量?\"))"
      ],
      "execution_count": 7,
      "outputs": [
        {
          "output_type": "stream",
          "text": [
            "請輸入背心數量?1\n"
          ],
          "name": "stdout"
        }
      ]
    },
    {
      "cell_type": "code",
      "metadata": {
        "id": "axHy98_LRDKX",
        "colab_type": "code",
        "colab": {}
      },
      "source": [
        "總金額=上衣*300+褲子*350+背心*400"
      ],
      "execution_count": 0,
      "outputs": []
    },
    {
      "cell_type": "code",
      "metadata": {
        "id": "tzMCQs2HRX93",
        "colab_type": "code",
        "colab": {
          "base_uri": "https://localhost:8080/",
          "height": 34
        },
        "outputId": "a4d2bf3f-10e8-454b-b50c-07f4f1fbd9f6"
      },
      "source": [
        "print(\"訂購服裝的總金額為\",總金額)"
      ],
      "execution_count": 29,
      "outputs": [
        {
          "output_type": "stream",
          "text": [
            "訂購服裝的總金額為 2050\n"
          ],
          "name": "stdout"
        }
      ]
    },
    {
      "cell_type": "code",
      "metadata": {
        "id": "9g_CddrvSCUA",
        "colab_type": "code",
        "colab": {
          "base_uri": "https://localhost:8080/",
          "height": 34
        },
        "outputId": "55106af2-efcb-4178-cb40-1a9085dc32b6"
      },
      "source": [
        "半徑=float(input(\"請輸入半徑?\"))"
      ],
      "execution_count": 59,
      "outputs": [
        {
          "output_type": "stream",
          "text": [
            "請輸入半徑?10\n"
          ],
          "name": "stdout"
        }
      ]
    },
    {
      "cell_type": "code",
      "metadata": {
        "id": "feXhL7lzTQjR",
        "colab_type": "code",
        "colab": {}
      },
      "source": [
        "PI=3.14159"
      ],
      "execution_count": 0,
      "outputs": []
    },
    {
      "cell_type": "code",
      "metadata": {
        "id": "NVq92ODeTw3W",
        "colab_type": "code",
        "colab": {}
      },
      "source": [
        "圓周長=2*PI*半徑"
      ],
      "execution_count": 0,
      "outputs": []
    },
    {
      "cell_type": "code",
      "metadata": {
        "id": "s527h-LlT-6G",
        "colab_type": "code",
        "colab": {}
      },
      "source": [
        "圓面積=半徑*半徑*PI"
      ],
      "execution_count": 0,
      "outputs": []
    },
    {
      "cell_type": "code",
      "metadata": {
        "id": "v-13szfgUnWZ",
        "colab_type": "code",
        "colab": {
          "base_uri": "https://localhost:8080/",
          "height": 34
        },
        "outputId": "8470ef3c-113c-420d-8f14-c8c19e2bec1e"
      },
      "source": [
        "print(\"圓周長為\",圓周長,\"圓面積為\",圓面積)"
      ],
      "execution_count": 90,
      "outputs": [
        {
          "output_type": "stream",
          "text": [
            "圓周長為 62.8318 圓面積為 314.159\n"
          ],
          "name": "stdout"
        }
      ]
    },
    {
      "cell_type": "code",
      "metadata": {
        "id": "RLh2CBpWVjLx",
        "colab_type": "code",
        "colab": {
          "base_uri": "https://localhost:8080/",
          "height": 34
        },
        "outputId": "dfaf788a-3986-4fd0-8ccf-52dcb5a73f9f"
      },
      "source": [
        "c=float(input(\"請輸入攝氏溫度?\"))"
      ],
      "execution_count": 68,
      "outputs": [
        {
          "output_type": "stream",
          "text": [
            "請輸入攝氏溫度?50\n"
          ],
          "name": "stdout"
        }
      ]
    },
    {
      "cell_type": "code",
      "metadata": {
        "id": "MhXrmvKyW22k",
        "colab_type": "code",
        "colab": {}
      },
      "source": [
        "f=c*9/5+32"
      ],
      "execution_count": 0,
      "outputs": []
    },
    {
      "cell_type": "code",
      "metadata": {
        "id": "86EuPAviW_LZ",
        "colab_type": "code",
        "colab": {
          "base_uri": "https://localhost:8080/",
          "height": 34
        },
        "outputId": "58ff6199-218f-4f8f-c253-be91a6c7b8f2"
      },
      "source": [
        "print(\"華氏溫度為\",f)"
      ],
      "execution_count": 72,
      "outputs": [
        {
          "output_type": "stream",
          "text": [
            "華氏溫度為 122.0\n"
          ],
          "name": "stdout"
        }
      ]
    },
    {
      "cell_type": "code",
      "metadata": {
        "id": "c2LY6RpnXR5P",
        "colab_type": "code",
        "colab": {
          "base_uri": "https://localhost:8080/",
          "height": 34
        },
        "outputId": "9505931b-1e7f-4335-992f-b7fe8861ce8f"
      },
      "source": [
        "money=int(input(\"請輸入本金?\"))"
      ],
      "execution_count": 75,
      "outputs": [
        {
          "output_type": "stream",
          "text": [
            "請輸入本金?10000\n"
          ],
          "name": "stdout"
        }
      ]
    },
    {
      "cell_type": "code",
      "metadata": {
        "id": "SzSICBhxX7h3",
        "colab_type": "code",
        "colab": {
          "base_uri": "https://localhost:8080/",
          "height": 34
        },
        "outputId": "fa8bb9da-e030-45fb-c1d6-c0fa985dba38"
      },
      "source": [
        "interest=float(input(\"請輸入年利率(%)?\"))"
      ],
      "execution_count": 76,
      "outputs": [
        {
          "output_type": "stream",
          "text": [
            "請輸入年利率(%)?1.5\n"
          ],
          "name": "stdout"
        }
      ]
    },
    {
      "cell_type": "code",
      "metadata": {
        "id": "K-kBxZcbYWPS",
        "colab_type": "code",
        "colab": {}
      },
      "source": [
        "y1=money*(1+interest/100)"
      ],
      "execution_count": 0,
      "outputs": []
    },
    {
      "cell_type": "code",
      "metadata": {
        "id": "DpZ_UcqNY5q_",
        "colab_type": "code",
        "colab": {}
      },
      "source": [
        "y2=money*((1+interest/100)**2)"
      ],
      "execution_count": 0,
      "outputs": []
    },
    {
      "cell_type": "code",
      "metadata": {
        "id": "RuVZAiJRZIOX",
        "colab_type": "code",
        "colab": {}
      },
      "source": [
        "y3=money*((1+interest/100)**3)"
      ],
      "execution_count": 0,
      "outputs": []
    },
    {
      "cell_type": "code",
      "metadata": {
        "id": "OEHtnXAoZPYT",
        "colab_type": "code",
        "colab": {
          "base_uri": "https://localhost:8080/",
          "height": 34
        },
        "outputId": "f0f5a448-b7d6-4ed3-be2a-80baea5c0818"
      },
      "source": [
        "print(\"第一年本利和為\",y1)"
      ],
      "execution_count": 80,
      "outputs": [
        {
          "output_type": "stream",
          "text": [
            "第一年本利和為 10149.999999999998\n"
          ],
          "name": "stdout"
        }
      ]
    },
    {
      "cell_type": "code",
      "metadata": {
        "id": "0rDq1L3aZeyz",
        "colab_type": "code",
        "colab": {
          "base_uri": "https://localhost:8080/",
          "height": 34
        },
        "outputId": "d4426afb-2ce0-457f-c62b-220415009a0e"
      },
      "source": [
        "print(\"第二年本利和為\",y2)"
      ],
      "execution_count": 83,
      "outputs": [
        {
          "output_type": "stream",
          "text": [
            "第二年本利和為 10302.249999999996\n"
          ],
          "name": "stdout"
        }
      ]
    },
    {
      "cell_type": "code",
      "metadata": {
        "id": "ftd-E6owZhYi",
        "colab_type": "code",
        "colab": {
          "base_uri": "https://localhost:8080/",
          "height": 34
        },
        "outputId": "58b0e34e-1df1-48d8-b379-f2dd18659660"
      },
      "source": [
        "print(\"第三年本利和為\",y3)"
      ],
      "execution_count": 84,
      "outputs": [
        {
          "output_type": "stream",
          "text": [
            "第三年本利和為 10456.783749999997\n"
          ],
          "name": "stdout"
        }
      ]
    },
    {
      "cell_type": "code",
      "metadata": {
        "id": "VnoTFg5yZjNA",
        "colab_type": "code",
        "colab": {
          "base_uri": "https://localhost:8080/",
          "height": 34
        },
        "outputId": "099e3d5b-a8ba-45a1-f6f0-fa81793b200b"
      },
      "source": [
        "s=input(\"請輸入一個字串?\")"
      ],
      "execution_count": 85,
      "outputs": [
        {
          "output_type": "stream",
          "text": [
            "請輸入一個字串?abvba\n"
          ],
          "name": "stdout"
        }
      ]
    },
    {
      "cell_type": "code",
      "metadata": {
        "id": "Zbgd-296Z3PO",
        "colab_type": "code",
        "colab": {
          "base_uri": "https://localhost:8080/",
          "height": 34
        },
        "outputId": "26222392-fd2e-436d-fa9f-f09d699895e7"
      },
      "source": [
        "print(\"迴文判斷結果為\",s==s[::-1])"
      ],
      "execution_count": 91,
      "outputs": [
        {
          "output_type": "stream",
          "text": [
            "迴文判斷結果為 True\n"
          ],
          "name": "stdout"
        }
      ]
    },
    {
      "cell_type": "code",
      "metadata": {
        "id": "dNalOjYqaXe1",
        "colab_type": "code",
        "colab": {}
      },
      "source": [
        ""
      ],
      "execution_count": 0,
      "outputs": []
    }
  ]
}