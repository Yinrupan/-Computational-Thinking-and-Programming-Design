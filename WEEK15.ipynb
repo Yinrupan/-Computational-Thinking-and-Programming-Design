{
  "nbformat": 4,
  "nbformat_minor": 0,
  "metadata": {
    "colab": {
      "name": "WEEK15.ipynb",
      "provenance": []
    },
    "kernelspec": {
      "name": "python3",
      "display_name": "Python 3"
    }
  },
  "cells": [
    {
      "cell_type": "code",
      "metadata": {
        "id": "fJxMMa2J0QVk",
        "colab_type": "code",
        "colab": {}
      },
      "source": [
        "x=5 \n",
        "if x<10:\n",
        "  print(\"x is less than 10\") \n",
        "\n",
        "x=5 \n",
        "while x<10:\n",
        "      print(\"x is less than 10\")\n",
        "      print(\"I am still here\")\n",
        "      x=x+1\n",
        "print(\"Finished\")\n"
      ],
      "execution_count": 0,
      "outputs": []
    },
    {
      "cell_type": "code",
      "metadata": {
        "id": "8LQUXfj70ag7",
        "colab_type": "code",
        "colab": {}
      },
      "source": [
        "x=1\n",
        "while x<5:\n",
        "      print(\"變數x是\",x)\n",
        "      x=x+1\n",
        "print(\"Finished\")"
      ],
      "execution_count": 0,
      "outputs": []
    },
    {
      "cell_type": "code",
      "metadata": {
        "id": "l0VFxMUd0ece",
        "colab_type": "code",
        "colab": {}
      },
      "source": [
        "x=1\n",
        "while x<=10:\n",
        "      print(\"HELLO\")\n",
        "      x=x+1\n",
        "print(\"Finished\")"
      ],
      "execution_count": 0,
      "outputs": []
    },
    {
      "cell_type": "code",
      "metadata": {
        "id": "v819DinZ0kUs",
        "colab_type": "code",
        "colab": {}
      },
      "source": [
        "x=0\n",
        "while x<10:\n",
        "      print(\"HELLO\")\n",
        "      x=x+1\n",
        "print(\"Finished\")"
      ],
      "execution_count": 0,
      "outputs": []
    },
    {
      "cell_type": "code",
      "metadata": {
        "id": "NJSdkYLz0xk9",
        "colab_type": "code",
        "colab": {}
      },
      "source": [
        "x=0\n",
        "while x<10:\n",
        "      x=x+1\n",
        "      print(\"This is\",x,\"times HELLO\")\n",
        "print(\"Finished\")"
      ],
      "execution_count": 0,
      "outputs": []
    },
    {
      "cell_type": "code",
      "metadata": {
        "id": "WWqU6NGm0yyl",
        "colab_type": "code",
        "colab": {}
      },
      "source": [
        "x=0\n",
        "while x<10:\n",
        "      x=x+1\n",
        "      left=10-x\n",
        "      print(\"This is\",x,\"times HELLO\",\"You still have\",left,\"time.\")\n",
        "print(\"Finished\")"
      ],
      "execution_count": 0,
      "outputs": []
    },
    {
      "cell_type": "code",
      "metadata": {
        "id": "85sAguft08c3",
        "colab_type": "code",
        "colab": {
          "base_uri": "https://localhost:8080/",
          "height": 126
        },
        "outputId": "29dd88ab-8126-482f-d82c-38932b68d6b5"
      },
      "source": [
        "x=1\n",
        "sum=0\n",
        "while x<11:\n",
        "      sum=sum+x\n",
        "      x=x+2\n",
        "      print(\"sum\",x,sum)\n",
        "print(\"Finished\")\n"
      ],
      "execution_count": 2,
      "outputs": [
        {
          "output_type": "stream",
          "text": [
            "sum 3 1\n",
            "sum 5 4\n",
            "sum 7 9\n",
            "sum 9 16\n",
            "sum 11 25\n",
            "Finished\n"
          ],
          "name": "stdout"
        }
      ]
    },
    {
      "cell_type": "code",
      "metadata": {
        "id": "lfzkjO043YvV",
        "colab_type": "code",
        "colab": {}
      },
      "source": [
        "x=1\n",
        "sum=0\n",
        "while sum<=1000:\n",
        "      x +=1\n",
        "      sum +=1\n",
        "  print(\"\")"
      ],
      "execution_count": 0,
      "outputs": []
    }
  ]
}