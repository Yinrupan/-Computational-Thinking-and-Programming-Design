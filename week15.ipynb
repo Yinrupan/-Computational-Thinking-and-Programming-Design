{
  "nbformat": 4,
  "nbformat_minor": 0,
  "metadata": {
    "colab": {
      "name": "week15.ipynb",
      "provenance": []
    },
    "kernelspec": {
      "name": "python3",
      "display_name": "Python 3"
    }
  },
  "cells": [
    {
      "cell_type": "code",
      "metadata": {
        "id": "wWg6Izvco3FB",
        "colab_type": "code",
        "colab": {
          "base_uri": "https://localhost:8080/",
          "height": 51
        },
        "outputId": "624e2a27-3d33-43c4-e513-b891ccaeed8c"
      },
      "source": [
        "while True:\n",
        "    password=input(\"Enter Your Password:\")\n",
        "    if password==\"123\":\n",
        "      print(\"Correct\")\n",
        "      break\n",
        "    else:\n",
        "      print(\"Fail,Try Again\")"
      ],
      "execution_count": 2,
      "outputs": [
        {
          "output_type": "stream",
          "text": [
            "Enter Your Password:123\n",
            "Correct\n"
          ],
          "name": "stdout"
        }
      ]
    },
    {
      "cell_type": "code",
      "metadata": {
        "id": "6aic1HCUqcja",
        "colab_type": "code",
        "colab": {
          "base_uri": "https://localhost:8080/",
          "height": 68
        },
        "outputId": "677b1f32-c058-44a8-8600-e63268fdc1d6"
      },
      "source": [
        "while True:\n",
        "    account=input(\"Enter Your Password:\")\n",
        "    password=input(\"Enter Your Password:\")\n",
        "    if account==\"qazwsx0810\" and password==\"12345\":\n",
        "      print(\"Correct\")\n",
        "      break\n",
        "    else:\n",
        "      print(\"Fail,Try Again\")\n",
        "\n"
      ],
      "execution_count": 7,
      "outputs": [
        {
          "output_type": "stream",
          "text": [
            "Enter Your Password:qazwsx0810\n",
            "Enter Your Password:12345\n",
            "Correct\n"
          ],
          "name": "stdout"
        }
      ]
    },
    {
      "cell_type": "code",
      "metadata": {
        "id": "ZgL9DdhDt9FP",
        "colab_type": "code",
        "colab": {
          "base_uri": "https://localhost:8080/",
          "height": 119
        },
        "outputId": "cf7e0e98-091a-43b1-ba6e-a80f46284916"
      },
      "source": [
        "password==\"123\"\n",
        "times=0\n",
        "\n",
        "while times<=3:\n",
        "  answer=input(\"Enter Your Password:\")\n",
        "  if answer==password:\n",
        "    print(\"登入成功\")\n",
        "    break\n",
        "  else:\n",
        "      times=times+1\n",
        "      chance=3-times\n",
        "      print(\"密碼錯誤！還有\",chance,\"次機會\")\n",
        "\n"
      ],
      "execution_count": 20,
      "outputs": [
        {
          "output_type": "stream",
          "text": [
            "Enter Your Password:7\n",
            "密碼錯誤！還有 2 次機會\n",
            "Enter Your Password:8\n",
            "密碼錯誤！還有 1 次機會\n",
            "Enter Your Password:12345\n",
            "登入成功\n"
          ],
          "name": "stdout"
        }
      ]
    },
    {
      "cell_type": "code",
      "metadata": {
        "id": "s075v_MKzMWs",
        "colab_type": "code",
        "colab": {
          "base_uri": "https://localhost:8080/",
          "height": 34
        },
        "outputId": "290864f8-164f-4cb5-bd51-e51f02c80949"
      },
      "source": [
        "range(5)\n",
        "\n",
        "range(3)\n",
        "\n",
        "range(2,5)\n",
        "range(8,10)\n",
        "\n",
        "range(2,10,3)\n",
        "range(3,8,2)\n",
        "range(10,3,-2)"
      ],
      "execution_count": 21,
      "outputs": [
        {
          "output_type": "execute_result",
          "data": {
            "text/plain": [
              "range(10, 3, -2)"
            ]
          },
          "metadata": {
            "tags": []
          },
          "execution_count": 21
        }
      ]
    },
    {
      "cell_type": "code",
      "metadata": {
        "id": "bQIYgpXa2KOd",
        "colab_type": "code",
        "colab": {
          "base_uri": "https://localhost:8080/",
          "height": 34
        },
        "outputId": "eea5cf95-9a2d-476a-a033-71134266ac46"
      },
      "source": [
        "for a in range(6):\n",
        "    print(a,end=\" \")\n"
      ],
      "execution_count": 24,
      "outputs": [
        {
          "output_type": "stream",
          "text": [
            "0 1 2 3 4 5 "
          ],
          "name": "stdout"
        }
      ]
    },
    {
      "cell_type": "code",
      "metadata": {
        "id": "xY2-qsw12nGD",
        "colab_type": "code",
        "colab": {
          "base_uri": "https://localhost:8080/",
          "height": 34
        },
        "outputId": "c05538b1-3205-40f5-df61-a23ffd82b329"
      },
      "source": [
        "sum=0\n",
        "\n",
        "for a in range(1,11,2):\n",
        "    sum=sum+a\n",
        "\n",
        "print(\"1+3+5+7+9=\",sum)"
      ],
      "execution_count": 32,
      "outputs": [
        {
          "output_type": "stream",
          "text": [
            "1+3+5+7+9= 25\n"
          ],
          "name": "stdout"
        }
      ]
    }
  ]
}