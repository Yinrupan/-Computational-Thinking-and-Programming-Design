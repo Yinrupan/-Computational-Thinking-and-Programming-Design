{
  "nbformat": 4,
  "nbformat_minor": 0,
  "metadata": {
    "colab": {
      "name": "ch3 a108260010.ipynb",
      "provenance": []
    },
    "kernelspec": {
      "name": "python3",
      "display_name": "Python 3"
    }
  },
  "cells": [
    {
      "cell_type": "code",
      "metadata": {
        "id": "LGPZYErm7qyn",
        "colab_type": "code",
        "outputId": "cca659ca-c944-4430-d80b-f00a656d0369",
        "colab": {
          "base_uri": "https://localhost:8080/",
          "height": 34
        }
      },
      "source": [
        "t1=()\n",
        "print(t1)"
      ],
      "execution_count": 0,
      "outputs": [
        {
          "output_type": "stream",
          "text": [
            "()\n"
          ],
          "name": "stdout"
        }
      ]
    },
    {
      "cell_type": "code",
      "metadata": {
        "id": "rr9_COwb8IN7",
        "colab_type": "code",
        "outputId": "de319756-9571-4411-a0a2-8d27b0814204",
        "colab": {
          "base_uri": "https://localhost:8080/",
          "height": 34
        }
      },
      "source": [
        "t2=1,2,3\n",
        "print(t2)"
      ],
      "execution_count": 0,
      "outputs": [
        {
          "output_type": "stream",
          "text": [
            "(1, 2, 3)\n"
          ],
          "name": "stdout"
        }
      ]
    },
    {
      "cell_type": "code",
      "metadata": {
        "id": "UFHnQs5g8M5z",
        "colab_type": "code",
        "outputId": "2faff7af-0149-4a7c-9475-8e9bfe4877fe",
        "colab": {
          "base_uri": "https://localhost:8080/",
          "height": 34
        }
      },
      "source": [
        "t3=(1,2,3)\n",
        "print(t3)"
      ],
      "execution_count": 0,
      "outputs": [
        {
          "output_type": "stream",
          "text": [
            "(1, 2, 3)\n"
          ],
          "name": "stdout"
        }
      ]
    },
    {
      "cell_type": "code",
      "metadata": {
        "id": "7OS-Iueh8Qob",
        "colab_type": "code",
        "outputId": "5ae14e3f-9707-4db8-b2b2-347a54bc35e1",
        "colab": {
          "base_uri": "https://localhost:8080/",
          "height": 34
        }
      },
      "source": [
        "t3=(1,2,3)\n",
        "print(t3[0])"
      ],
      "execution_count": 0,
      "outputs": [
        {
          "output_type": "stream",
          "text": [
            "1\n"
          ],
          "name": "stdout"
        }
      ]
    },
    {
      "cell_type": "code",
      "metadata": {
        "id": "ZKwEVfgM8USN",
        "colab_type": "code",
        "outputId": "81ac63a6-53ff-4f70-9a1e-fc55fe05aab7",
        "colab": {
          "base_uri": "https://localhost:8080/",
          "height": 34
        }
      },
      "source": [
        "t3=(1,2,3)\n",
        "a,b,c=t3\n",
        "print('a=',a,'b=',b,'c=',c)"
      ],
      "execution_count": 0,
      "outputs": [
        {
          "output_type": "stream",
          "text": [
            "a= 1 b= 2 c= 3\n"
          ],
          "name": "stdout"
        }
      ]
    },
    {
      "cell_type": "code",
      "metadata": {
        "id": "EUKNe1F_8Xf9",
        "colab_type": "code",
        "outputId": "3a267224-f51a-4158-d3ad-5720fcad6eef",
        "colab": {
          "base_uri": "https://localhost:8080/",
          "height": 52
        }
      },
      "source": [
        "a=10\n",
        "b=20\n",
        "print('交換前','a=',a,'b=',b)\n",
        "a,b=b,a\n",
        "print('交換後','a=',a,'b=',b)"
      ],
      "execution_count": 0,
      "outputs": [
        {
          "output_type": "stream",
          "text": [
            "交換前 a= 10 b= 20\n",
            "交換後 a= 20 b= 10\n"
          ],
          "name": "stdout"
        }
      ]
    },
    {
      "cell_type": "code",
      "metadata": {
        "id": "thB_T9Tj9Wxi",
        "colab_type": "code",
        "outputId": "9b68b4cc-d80c-4b3b-84fb-f23441b7ba56",
        "colab": {
          "base_uri": "https://localhost:8080/",
          "height": 34
        }
      },
      "source": [
        "list1=[1,2,3,4]\n",
        "t4=tuple(list1)\n",
        "print(t4)"
      ],
      "execution_count": 0,
      "outputs": [
        {
          "output_type": "stream",
          "text": [
            "(1, 2, 3, 4)\n"
          ],
          "name": "stdout"
        }
      ]
    },
    {
      "cell_type": "code",
      "metadata": {
        "id": "ARpiv4c29nOG",
        "colab_type": "code",
        "outputId": "9962a613-82d5-4319-95d4-514064b87280",
        "colab": {
          "base_uri": "https://localhost:8080/",
          "height": 70
        }
      },
      "source": [
        "t4=(1,2,3,4)\n",
        "t5=(t4,5,6,)\n",
        "print(t5)\n",
        "print(len(t5))\n",
        "print(t5[0][0])"
      ],
      "execution_count": 0,
      "outputs": [
        {
          "output_type": "stream",
          "text": [
            "((1, 2, 3, 4), 5, 6)\n",
            "3\n",
            "1\n"
          ],
          "name": "stdout"
        }
      ]
    },
    {
      "cell_type": "code",
      "metadata": {
        "id": "n_W_xrF59-C5",
        "colab_type": "code",
        "outputId": "aded2fb2-f4d5-4292-fc87-ce13dcb1c119",
        "colab": {
          "base_uri": "https://localhost:8080/",
          "height": 34
        }
      },
      "source": [
        "t6=('z',)\n",
        "print(t6)"
      ],
      "execution_count": 0,
      "outputs": [
        {
          "output_type": "stream",
          "text": [
            "('z',)\n"
          ],
          "name": "stdout"
        }
      ]
    },
    {
      "cell_type": "code",
      "metadata": {
        "id": "SvjpCnMM-HC1",
        "colab_type": "code",
        "outputId": "7754d960-843e-49ed-f95b-601311bee8f2",
        "colab": {
          "base_uri": "https://localhost:8080/",
          "height": 52
        }
      },
      "source": [
        "shoplist=['牛奶','蛋','咖啡豆','西瓜','鳳梨']\n",
        "print('購物清單shoplist為')\n",
        "print(shoplist)"
      ],
      "execution_count": 0,
      "outputs": [
        {
          "output_type": "stream",
          "text": [
            "購物清單shoplist為\n",
            "['牛奶', '蛋', '咖啡豆', '西瓜', '鳳梨']\n"
          ],
          "name": "stdout"
        }
      ]
    },
    {
      "cell_type": "code",
      "metadata": {
        "id": "ES9thLRh_FMY",
        "colab_type": "code",
        "outputId": "cb97b49f-e8f6-4553-9686-c66f4deff17b",
        "colab": {
          "base_uri": "https://localhost:8080/",
          "height": 34
        }
      },
      "source": [
        "shoplist=['牛奶','蛋','咖啡豆','西瓜','鳳梨']\n",
        "print('顯示shoplist[0]為',shoplist[0])"
      ],
      "execution_count": 0,
      "outputs": [
        {
          "output_type": "stream",
          "text": [
            "顯示shoplist[0]為 牛奶\n"
          ],
          "name": "stdout"
        }
      ]
    },
    {
      "cell_type": "code",
      "metadata": {
        "id": "kNBynN2Q_1Oa",
        "colab_type": "code",
        "outputId": "f7aefe51-fd76-4993-9ee0-5b53647997df",
        "colab": {
          "base_uri": "https://localhost:8080/",
          "height": 34
        }
      },
      "source": [
        "shoplist=['牛奶','蛋','咖啡豆','西瓜','鳳梨']\n",
        "print('購物清單shoplist的長度',len(shoplist))\n"
      ],
      "execution_count": 0,
      "outputs": [
        {
          "output_type": "stream",
          "text": [
            "購物清單shoplist的長度 5\n"
          ],
          "name": "stdout"
        }
      ]
    },
    {
      "cell_type": "code",
      "metadata": {
        "id": "h9FkJpzHAQuJ",
        "colab_type": "code",
        "outputId": "15d2f447-febb-4d4c-e78a-3696d090ae17",
        "colab": {
          "base_uri": "https://localhost:8080/",
          "height": 52
        }
      },
      "source": [
        "shoplist=['牛奶','蛋','咖啡豆','西瓜','鳳梨']\n",
        "shoplist[1]='皮蛋'\n",
        "print(\"執行shoplist[1]='皮蛋'後\")\n",
        "print(shoplist)\n",
        "      "
      ],
      "execution_count": 0,
      "outputs": [
        {
          "output_type": "stream",
          "text": [
            "執行shoplist[1]='皮蛋'後\n",
            "['牛奶', '皮蛋', '咖啡豆', '西瓜', '鳳梨']\n"
          ],
          "name": "stdout"
        }
      ]
    },
    {
      "cell_type": "code",
      "metadata": {
        "id": "KM-ckkRVAzTC",
        "colab_type": "code",
        "outputId": "4fa42cc0-3e83-4b7f-a931-c0ca634bfc66",
        "colab": {
          "base_uri": "https://localhost:8080/",
          "height": 52
        }
      },
      "source": [
        "shoplist=['牛奶','蛋','咖啡豆','西瓜','鳳梨']\n",
        "index=shoplist.index('咖啡豆')\n",
        "print(\"執行index=shoplist.index(4,'咖啡豆')後\")\n",
        "print('index=',index)"
      ],
      "execution_count": 0,
      "outputs": [
        {
          "output_type": "stream",
          "text": [
            "執行index=shoplist.index(4,'咖啡豆')後\n",
            "index= 2\n"
          ],
          "name": "stdout"
        }
      ]
    },
    {
      "cell_type": "code",
      "metadata": {
        "id": "dQZ-P7jfBYOW",
        "colab_type": "code",
        "outputId": "2fbcfac9-6278-4493-f028-b47560c6282f",
        "colab": {
          "base_uri": "https://localhost:8080/",
          "height": 52
        }
      },
      "source": [
        "shoplist=['牛奶','蛋','咖啡豆','西瓜','鳳梨']\n",
        "shoplist.append('麵包')\n",
        "print(\"執行shoplist.append(4,'蘋果')後\")\n",
        "print(shoplist)"
      ],
      "execution_count": 0,
      "outputs": [
        {
          "output_type": "stream",
          "text": [
            "執行shoplist.append(4,'蘋果')後\n",
            "['牛奶', '蛋', '咖啡豆', '西瓜', '鳳梨', '麵包']\n"
          ],
          "name": "stdout"
        }
      ]
    },
    {
      "cell_type": "code",
      "metadata": {
        "id": "mKBNaINLCfXI",
        "colab_type": "code",
        "outputId": "13daf80c-43e1-4a81-cf0f-b5b5565a0ff9",
        "colab": {
          "base_uri": "https://localhost:8080/",
          "height": 52
        }
      },
      "source": [
        "shoplist=['牛奶','蛋','咖啡豆','西瓜','鳳梨']\n",
        "shoplist.insert(4,'蘋果')\n",
        "print(\"執行shoplist.insert(4,'蘋果')後\")\n",
        "print(shoplist)\n"
      ],
      "execution_count": 0,
      "outputs": [
        {
          "output_type": "stream",
          "text": [
            "執行shoplist.insert(4,'蘋果')後\n",
            "['牛奶', '蛋', '咖啡豆', '西瓜', '蘋果', '鳳梨']\n"
          ],
          "name": "stdout"
        }
      ]
    },
    {
      "cell_type": "code",
      "metadata": {
        "id": "GyBFiM7uC9Hc",
        "colab_type": "code",
        "outputId": "a9330ac2-37a9-4ef9-bb03-44e3f7aba13c",
        "colab": {
          "base_uri": "https://localhost:8080/",
          "height": 52
        }
      },
      "source": [
        "shoplist=['牛奶','蛋','咖啡豆','西瓜','鳳梨']\n",
        "shoplist.remove('蛋')\n",
        "print(\"執行shoplist.remove('蛋')後\")\n",
        "print(shoplist)\n"
      ],
      "execution_count": 0,
      "outputs": [
        {
          "output_type": "stream",
          "text": [
            "執行shoplist.remove('蛋')後\n",
            "['牛奶', '咖啡豆', '西瓜', '鳳梨']\n"
          ],
          "name": "stdout"
        }
      ]
    },
    {
      "cell_type": "code",
      "metadata": {
        "id": "UyT0KWHlDkRV",
        "colab_type": "code",
        "outputId": "70b1b0a4-2a22-4818-ea2b-8236a532a6c2",
        "colab": {
          "base_uri": "https://localhost:8080/",
          "height": 52
        }
      },
      "source": [
        "shoplist=['牛奶','蛋','咖啡豆','西瓜','鳳梨']\n",
        "del shoplist[0]\n",
        "print(\"執行del shoplist[0]後\")\n",
        "print(shoplist)"
      ],
      "execution_count": 0,
      "outputs": [
        {
          "output_type": "stream",
          "text": [
            "執行del shoplist[0]後\n",
            "['蛋', '咖啡豆', '西瓜', '鳳梨']\n"
          ],
          "name": "stdout"
        }
      ]
    },
    {
      "cell_type": "code",
      "metadata": {
        "id": "HiccCz00EIem",
        "colab_type": "code",
        "outputId": "d2ff27de-807e-4d69-94af-7da17f24e9e7",
        "colab": {
          "base_uri": "https://localhost:8080/",
          "height": 122
        }
      },
      "source": [
        "shoplist=['牛奶','蛋','咖啡豆','西瓜','鳳梨']\n",
        "shoplist.pop(0)\n",
        "print(\"執行shoplist.pop(0)後\")\n",
        "print(shoplist)\n",
        "shoplist.pop()\n",
        "print(\"執行shoplist.pop()後\")\n",
        "print(shoplist)\n",
        "shoplist.pop(-1)\n",
        "print(\"執行shoplist.pop(-1)後\")\n",
        "print(shoplist)"
      ],
      "execution_count": 0,
      "outputs": [
        {
          "output_type": "stream",
          "text": [
            "執行shoplist.pop(0)後\n",
            "['蛋', '咖啡豆', '西瓜', '鳳梨']\n",
            "執行shoplist.pop()後\n",
            "['蛋', '咖啡豆', '西瓜']\n",
            "執行shoplist.pop(-1)後\n",
            "['蛋', '咖啡豆']\n"
          ],
          "name": "stdout"
        }
      ]
    },
    {
      "cell_type": "code",
      "metadata": {
        "id": "PdIkHFq7FYu6",
        "colab_type": "code",
        "outputId": "b6805f03-17fe-4d91-d6cb-b37bb536ca6f",
        "colab": {
          "base_uri": "https://localhost:8080/",
          "height": 52
        }
      },
      "source": [
        "shoplist=['milk','egg','coffee','watermelon']\n",
        "shoplist.sort()\n",
        "print(\"執行shoplist.sort()後\")\n",
        "print(shoplist)"
      ],
      "execution_count": 0,
      "outputs": [
        {
          "output_type": "stream",
          "text": [
            "執行shoplist.sort()後\n",
            "['coffee', 'egg', 'milk', 'watermelon']\n"
          ],
          "name": "stdout"
        }
      ]
    },
    {
      "cell_type": "code",
      "metadata": {
        "id": "wkgYDRcMHZBK",
        "colab_type": "code",
        "outputId": "5eaf41fc-6b47-45b4-dc98-508e111576d2",
        "colab": {
          "base_uri": "https://localhost:8080/",
          "height": 52
        }
      },
      "source": [
        "list=[1,2.0,3,'Python']\n",
        "print(\"串列可以包含各種資料型別的元素\")\n",
        "print(list)"
      ],
      "execution_count": 0,
      "outputs": [
        {
          "output_type": "stream",
          "text": [
            "串列可以包含各種資料型別的元素\n",
            "[1, 2.0, 3, 'Python']\n"
          ],
          "name": "stdout"
        }
      ]
    },
    {
      "cell_type": "code",
      "metadata": {
        "id": "Y-DylllUH5c-",
        "colab_type": "code",
        "outputId": "0f1ebaf6-4c63-4745-e8c6-29e9297423de",
        "colab": {
          "base_uri": "https://localhost:8080/",
          "height": 87
        }
      },
      "source": [
        "shoplist=['milk','egg','coffee','watermelon']\n",
        "for item in shoplist:\n",
        " print(item)"
      ],
      "execution_count": 0,
      "outputs": [
        {
          "output_type": "stream",
          "text": [
            "milk\n",
            "egg\n",
            "coffee\n",
            "watermelon\n"
          ],
          "name": "stdout"
        }
      ]
    },
    {
      "cell_type": "code",
      "metadata": {
        "id": "oibNXOvsIHBe",
        "colab_type": "code",
        "outputId": "d0e961ed-0601-446a-bc29-30890e036c64",
        "colab": {
          "base_uri": "https://localhost:8080/",
          "height": 34
        }
      },
      "source": [
        "shoplist1=['牛奶','蛋','咖啡豆']\n",
        "shoplist2=['西瓜','鳳梨']\n",
        "shoplist_all=shoplist1+shoplist2\n",
        "print(shoplist_all)"
      ],
      "execution_count": 4,
      "outputs": [
        {
          "output_type": "stream",
          "text": [
            "['牛奶', '蛋', '咖啡豆', '西瓜', '鳳梨']\n"
          ],
          "name": "stdout"
        }
      ]
    },
    {
      "cell_type": "code",
      "metadata": {
        "id": "HSyjV3lfy9Aa",
        "colab_type": "code",
        "colab": {
          "base_uri": "https://localhost:8080/",
          "height": 52
        },
        "outputId": "556681fc-53b7-4f64-e011-02b14268238b"
      },
      "source": [
        "list1=list('python')\n",
        "print(list1)\n",
        "tuple2=('a','b',1,2)\n",
        "list2=list(tuple2)\n",
        "print(list2)"
      ],
      "execution_count": 6,
      "outputs": [
        {
          "output_type": "stream",
          "text": [
            "['p', 'y', 't', 'h', 'o', 'n']\n",
            "['a', 'b', 1, 2]\n"
          ],
          "name": "stdout"
        }
      ]
    },
    {
      "cell_type": "code",
      "metadata": {
        "id": "v5ORiZ-0JuvC",
        "colab_type": "code",
        "outputId": "8a8632a0-211b-4dc0-bb95-f165d5d8eda4",
        "colab": {
          "base_uri": "https://localhost:8080/",
          "height": 34
        }
      },
      "source": [
        "list3=\"2016/1/1\".split('/')\n",
        "print(list3)"
      ],
      "execution_count": 5,
      "outputs": [
        {
          "output_type": "stream",
          "text": [
            "['2016', '1', '1']\n"
          ],
          "name": "stdout"
        }
      ]
    },
    {
      "cell_type": "code",
      "metadata": {
        "id": "e_QZI77-y3Ii",
        "colab_type": "code",
        "colab": {
          "base_uri": "https://localhost:8080/",
          "height": 34
        },
        "outputId": "0cb86b8c-b001-4479-c43e-e4a200e6385d"
      },
      "source": [
        "a=list('abcdefghijk')\n",
        "print('a[:]為',a[:])"
      ],
      "execution_count": 7,
      "outputs": [
        {
          "output_type": "stream",
          "text": [
            "a[:]為 ['a', 'b', 'c', 'd', 'e', 'f', 'g', 'h', 'i', 'j', 'k']\n"
          ],
          "name": "stdout"
        }
      ]
    },
    {
      "cell_type": "code",
      "metadata": {
        "id": "M2TDMcAbz-oB",
        "colab_type": "code",
        "colab": {
          "base_uri": "https://localhost:8080/",
          "height": 87
        },
        "outputId": "0be5af12-77c7-4563-b392-f6e0ca669f1a"
      },
      "source": [
        "a=list('abcdefghijk')\n",
        "print('a[:5]為',a[:5])\n",
        "print('a[5:]為',a[5:])\n",
        "print('a[:-5]為',a[:-5])\n",
        "print('a[-5:]為',a[-5:])"
      ],
      "execution_count": 8,
      "outputs": [
        {
          "output_type": "stream",
          "text": [
            "a[:5]為 ['a', 'b', 'c', 'd', 'e']\n",
            "a[5:]為 ['f', 'g', 'h', 'i', 'j', 'k']\n",
            "a[:-5]為 ['a', 'b', 'c', 'd', 'e', 'f']\n",
            "a[-5:]為 ['g', 'h', 'i', 'j', 'k']\n"
          ],
          "name": "stdout"
        }
      ]
    },
    {
      "cell_type": "code",
      "metadata": {
        "id": "e5N9iwJT0obd",
        "colab_type": "code",
        "colab": {
          "base_uri": "https://localhost:8080/",
          "height": 52
        },
        "outputId": "3c1170c7-ea95-439c-fcad-2ed4cfb0cd2b"
      },
      "source": [
        "a=list('abcdefghijk')\n",
        "print('a[0:4]為',a[0:4])\n",
        "print('a[-5:-3]為',a[-5:-3])"
      ],
      "execution_count": 9,
      "outputs": [
        {
          "output_type": "stream",
          "text": [
            "a[0:4]為 ['a', 'b', 'c', 'd']\n",
            "a[-5:-3]為 ['g', 'h']\n"
          ],
          "name": "stdout"
        }
      ]
    },
    {
      "cell_type": "code",
      "metadata": {
        "id": "Kf0I561a0ood",
        "colab_type": "code",
        "colab": {
          "base_uri": "https://localhost:8080/",
          "height": 52
        },
        "outputId": "fba4d7dd-157b-4b99-d872-ead83a8e94f6"
      },
      "source": [
        "a=list('abcdefghijk')\n",
        "print('a[1:10:3]為',a[1:10:3])\n",
        "print('a[-1:-4:-1]為',a[-1:-4:-1])"
      ],
      "execution_count": 10,
      "outputs": [
        {
          "output_type": "stream",
          "text": [
            "a[1:10:3]為 ['b', 'e', 'h']\n",
            "a[-1:-4:-1]為 ['k', 'j', 'i']\n"
          ],
          "name": "stdout"
        }
      ]
    },
    {
      "cell_type": "code",
      "metadata": {
        "id": "t1sHodrA0oy2",
        "colab_type": "code",
        "colab": {
          "base_uri": "https://localhost:8080/",
          "height": 34
        },
        "outputId": "6cf1771a-0ef1-431a-bd76-a4d13eccaa66"
      },
      "source": [
        "a=list('abcdefghijk')\n",
        "print('a[::-1]為',a[::-1])"
      ],
      "execution_count": 11,
      "outputs": [
        {
          "output_type": "stream",
          "text": [
            "a[::-1]為 ['k', 'j', 'i', 'h', 'g', 'f', 'e', 'd', 'c', 'b', 'a']\n"
          ],
          "name": "stdout"
        }
      ]
    },
    {
      "cell_type": "code",
      "metadata": {
        "id": "J0fBRAst0o41",
        "colab_type": "code",
        "colab": {
          "base_uri": "https://localhost:8080/",
          "height": 122
        },
        "outputId": "2094ec8f-5076-4164-ad98-40cb51b94a9a"
      },
      "source": [
        "list1=[1,2,3,4]\n",
        "list2=list1\n",
        "print('list1=',list1)\n",
        "print('list2=',list2)\n",
        "list1[2]=19\n",
        "print('list1=',list1)\n",
        "print('list2=',list2)\n",
        "list2[2]=18\n",
        "print('list1=',list1)\n",
        "print('list2=',list2)"
      ],
      "execution_count": 13,
      "outputs": [
        {
          "output_type": "stream",
          "text": [
            "list1= [1, 2, 3, 4]\n",
            "list2= [1, 2, 3, 4]\n",
            "list1= [1, 2, 19, 4]\n",
            "list2= [1, 2, 19, 4]\n",
            "list1= [1, 2, 18, 4]\n",
            "list2= [1, 2, 18, 4]\n"
          ],
          "name": "stdout"
        }
      ]
    },
    {
      "cell_type": "code",
      "metadata": {
        "id": "Zvukerva0o61",
        "colab_type": "code",
        "colab": {
          "base_uri": "https://localhost:8080/",
          "height": 87
        },
        "outputId": "a38a4c89-b947-4cb0-bbb1-63c9f652cdf1"
      },
      "source": [
        "list1=[1,2,3,4]\n",
        "list3=list1[:]\n",
        "list3[2]=19\n",
        "print('list1=',list1)\n",
        "print('list3=',list3)\n",
        "list4=list1.copy()\n",
        "list4[2]=19\n",
        "print('list1=',list1)\n",
        "print('list4=',list4)"
      ],
      "execution_count": 14,
      "outputs": [
        {
          "output_type": "stream",
          "text": [
            "list1= [1, 2, 3, 4]\n",
            "list3= [1, 2, 19, 4]\n",
            "list1= [1, 2, 3, 4]\n",
            "list4= [1, 2, 19, 4]\n"
          ],
          "name": "stdout"
        }
      ]
    },
    {
      "cell_type": "code",
      "metadata": {
        "id": "Xz4y6Y8ZN2gd",
        "colab_type": "code",
        "outputId": "bd40d52f-78fa-4b4b-9499-25e86db223d1",
        "colab": {
          "base_uri": "https://localhost:8080/",
          "height": 52
        }
      },
      "source": [
        "dict1={}\n",
        "print(dict1)\n",
        "lang={'早安':'Good Morning','你好':'Hello'}\n",
        "print(lang)"
      ],
      "execution_count": 0,
      "outputs": [
        {
          "output_type": "stream",
          "text": [
            "{}\n",
            "{'早安': 'Good Morning', '你好': 'Hello'}\n"
          ],
          "name": "stdout"
        }
      ]
    },
    {
      "cell_type": "code",
      "metadata": {
        "id": "8qgh4GotO6oR",
        "colab_type": "code",
        "outputId": "55265a1f-f00c-46a1-c890-6fb63ae46426",
        "colab": {
          "base_uri": "https://localhost:8080/",
          "height": 34
        }
      },
      "source": [
        "lang={'早安':'Good Morning','你好':'Hello'}\n",
        "print('｢你好」的英文為',lang['你好'])\n"
      ],
      "execution_count": 0,
      "outputs": [
        {
          "output_type": "stream",
          "text": [
            "｢你好」的英文為 Hello\n"
          ],
          "name": "stdout"
        }
      ]
    },
    {
      "cell_type": "code",
      "metadata": {
        "id": "dk09ofoeQyxs",
        "colab_type": "code",
        "outputId": "8fef6e58-b111-4223-d055-1529a1b60daa",
        "colab": {
          "base_uri": "https://localhost:8080/",
          "height": 185
        }
      },
      "source": [
        "lang={'早安':'Good Morning','你好':'Hello'}\n",
        "print('｢你好嗎」的英文為',lang['你好嗎'])"
      ],
      "execution_count": 0,
      "outputs": [
        {
          "output_type": "error",
          "ename": "KeyError",
          "evalue": "ignored",
          "traceback": [
            "\u001b[0;31m---------------------------------------------------------------------------\u001b[0m",
            "\u001b[0;31mKeyError\u001b[0m                                  Traceback (most recent call last)",
            "\u001b[0;32m<ipython-input-54-cd93a4a36385>\u001b[0m in \u001b[0;36m<module>\u001b[0;34m()\u001b[0m\n\u001b[1;32m      1\u001b[0m \u001b[0mlang\u001b[0m\u001b[0;34m=\u001b[0m\u001b[0;34m{\u001b[0m\u001b[0;34m'早安'\u001b[0m\u001b[0;34m:\u001b[0m\u001b[0;34m'Good Morning'\u001b[0m\u001b[0;34m,\u001b[0m\u001b[0;34m'你好'\u001b[0m\u001b[0;34m:\u001b[0m\u001b[0;34m'Hello'\u001b[0m\u001b[0;34m}\u001b[0m\u001b[0;34m\u001b[0m\u001b[0;34m\u001b[0m\u001b[0m\n\u001b[0;32m----> 2\u001b[0;31m \u001b[0mprint\u001b[0m\u001b[0;34m(\u001b[0m\u001b[0;34m'｢你好嗎」的英文為'\u001b[0m\u001b[0;34m,\u001b[0m\u001b[0mlang\u001b[0m\u001b[0;34m[\u001b[0m\u001b[0;34m'你好嗎'\u001b[0m\u001b[0;34m]\u001b[0m\u001b[0;34m)\u001b[0m\u001b[0;34m\u001b[0m\u001b[0;34m\u001b[0m\u001b[0m\n\u001b[0m",
            "\u001b[0;31mKeyError\u001b[0m: '你好嗎'"
          ]
        }
      ]
    },
    {
      "cell_type": "code",
      "metadata": {
        "id": "r5qq5gSvRI_W",
        "colab_type": "code",
        "outputId": "1dc25b85-ed63-4aa7-fd83-875b84fb4c46",
        "colab": {
          "base_uri": "https://localhost:8080/",
          "height": 70
        }
      },
      "source": [
        "lang={'早安':'Good Morning','你好':'Hello'}\n",
        "print('｢你好」的英文為',lang.get('你好'))\n",
        "print('｢你好嗎」的英文為',lang.get('你好嗎'))\n",
        "print('｢你好嗎」的英文為',lang.get('你好嗎','不在字典裡'))\n"
      ],
      "execution_count": 0,
      "outputs": [
        {
          "output_type": "stream",
          "text": [
            "｢你好」的英文為 Hello\n",
            "｢你好嗎」的英文為 None\n",
            "｢你好嗎」的英文為 不在字典裡\n"
          ],
          "name": "stdout"
        }
      ]
    },
    {
      "cell_type": "code",
      "metadata": {
        "id": "oN1c-AylUQjE",
        "colab_type": "code",
        "outputId": "43454a58-3863-4649-f7c0-2a9790003566",
        "colab": {
          "base_uri": "https://localhost:8080/",
          "height": 52
        }
      },
      "source": [
        "lang={'早安':'Good Morning','你好':'Hello'}\n",
        "lang['你好']='Hi'\n",
        "print(lang)\n",
        "lang['學生']='Student'\n",
        "print(lang)"
      ],
      "execution_count": 0,
      "outputs": [
        {
          "output_type": "stream",
          "text": [
            "{'早安': 'Good Morning', '你好': 'Hi'}\n",
            "{'早安': 'Good Morning', '你好': 'Hi', '學生': 'Student'}\n"
          ],
          "name": "stdout"
        }
      ]
    },
    {
      "cell_type": "code",
      "metadata": {
        "id": "WTDSqD7dVCsd",
        "colab_type": "code",
        "outputId": "4a0bd09e-2694-4a01-aeff-e6ce5569ac49",
        "colab": {
          "base_uri": "https://localhost:8080/",
          "height": 34
        }
      },
      "source": [
        "lang={'早安':'Good Morning','你好':'Hello'}\n",
        "del lang['早安']\n",
        "print(lang)"
      ],
      "execution_count": 0,
      "outputs": [
        {
          "output_type": "stream",
          "text": [
            "{'你好': 'Hello'}\n"
          ],
          "name": "stdout"
        }
      ]
    },
    {
      "cell_type": "code",
      "metadata": {
        "id": "rWxYarEvVVfx",
        "colab_type": "code",
        "colab": {
          "base_uri": "https://localhost:8080/",
          "height": 34
        },
        "outputId": "437af3c3-7152-46a7-fd1e-eeacc041b8aa"
      },
      "source": [
        "lang={'早安':'Good Morning','你好':'Hello'}\n",
        "lang.clear()\n",
        "print(lang)\n"
      ],
      "execution_count": 1,
      "outputs": [
        {
          "output_type": "stream",
          "text": [
            "{}\n"
          ],
          "name": "stdout"
        }
      ]
    },
    {
      "cell_type": "code",
      "metadata": {
        "id": "OLo73Rv1xq3v",
        "colab_type": "code",
        "colab": {
          "base_uri": "https://localhost:8080/",
          "height": 87
        },
        "outputId": "69b81885-6551-4edf-9879-db4c54898018"
      },
      "source": [
        "a=[['早安','Good Morning'],['你好','Hello']]\n",
        "dict1=dict(a)\n",
        "print(dict1)\n",
        "b=[('早安','Good Morning'),('你好','Hello')]\n",
        "dict2=dict(b)\n",
        "print(dict2)\n",
        "c=(['早安','Good Morning'],['你好','Hello'])\n",
        "dict3=dict(c)\n",
        "print(dict3)\n",
        "d=(('早安','Good Morning'),('你好','Hello'))\n",
        "dict4=dict(d)\n",
        "print(dict4)"
      ],
      "execution_count": 16,
      "outputs": [
        {
          "output_type": "stream",
          "text": [
            "{'早安': 'Good Morning', '你好': 'Hello'}\n",
            "{'早安': 'Good Morning', '你好': 'Hello'}\n",
            "{'早安': 'Good Morning', '你好': 'Hello'}\n",
            "{'早安': 'Good Morning', '你好': 'Hello'}\n"
          ],
          "name": "stdout"
        }
      ]
    },
    {
      "cell_type": "code",
      "metadata": {
        "id": "fLlUA9tn5rv0",
        "colab_type": "code",
        "colab": {
          "base_uri": "https://localhost:8080/",
          "height": 52
        },
        "outputId": "77ae4118-1446-4e5d-93cd-d8ff0b4e7050"
      },
      "source": [
        "lang1={'你好':'Hello'}\n",
        "lang2={'你好':'Student'}\n",
        "lang1.update(lang2)\n",
        "print(lang1)\n",
        "lang1={'早安':'Good Morning','你好':'Hello'}\n",
        "lang2={'你好':'Hi'}\n",
        "lang1.update(lang2)\n",
        "print(lang1)"
      ],
      "execution_count": 32,
      "outputs": [
        {
          "output_type": "stream",
          "text": [
            "{'你好': 'Student'}\n",
            "{'早安': 'Good Morning', '你好': 'Hi'}\n"
          ],
          "name": "stdout"
        }
      ]
    },
    {
      "cell_type": "code",
      "metadata": {
        "id": "7zK5ebUm680E",
        "colab_type": "code",
        "colab": {
          "base_uri": "https://localhost:8080/",
          "height": 87
        },
        "outputId": "99fe6eb9-f0f6-4fab-ff38-3394fe86bbab"
      },
      "source": [
        "lang1={'早安':'Good Morning','你好':'Hello'}\n",
        "lang2=lang1\n",
        "lang2['你好']='Hi'\n",
        "print('lang1為',lang1)\n",
        "print('lang2為',lang2)\n",
        "lang1={'早安':'Good Morning','你好':'Hello'}\n",
        "lang3=lang1.copy()\n",
        "lang3['你好']='Hi'\n",
        "print('lang1為',lang1)\n",
        "print('lang3為',lang3)"
      ],
      "execution_count": 18,
      "outputs": [
        {
          "output_type": "stream",
          "text": [
            "lang1為 {'早安': 'Good Morning', '你好': 'Hi'}\n",
            "lang2為 {'早安': 'Good Morning', '你好': 'Hi'}\n",
            "lang1為 {'早安': 'Good Morning', '你好': 'Hello'}\n",
            "lang3為 {'早安': 'Good Morning', '你好': 'Hi'}\n"
          ],
          "name": "stdout"
        }
      ]
    },
    {
      "cell_type": "code",
      "metadata": {
        "id": "QA3dDbL58AoJ",
        "colab_type": "code",
        "colab": {
          "base_uri": "https://localhost:8080/",
          "height": 122
        },
        "outputId": "d83bdd77-0034-48b0-88eb-8df2e98528b5"
      },
      "source": [
        "lang={'早安':'Good Morning','你好':'Hello'}\n",
        "for ch,en in lang.items():\n",
        "  print('中文為',ch,'英文為',en)\n",
        "for ch in lang.keys():\n",
        "  print(ch,lang[ch])\n",
        "for en in lang.values():\n",
        "  print(en)"
      ],
      "execution_count": 24,
      "outputs": [
        {
          "output_type": "stream",
          "text": [
            "中文為 早安 英文為 Good Morning\n",
            "中文為 你好 英文為 Hello\n",
            "早安 Good Morning\n",
            "你好 Hello\n",
            "Good Morning\n",
            "Hello\n"
          ],
          "name": "stdout"
        }
      ]
    },
    {
      "cell_type": "code",
      "metadata": {
        "id": "qZiSSeno9e2P",
        "colab_type": "code",
        "colab": {
          "base_uri": "https://localhost:8080/",
          "height": 105
        },
        "outputId": "e6f617f6-8c25-4cb8-c8fd-13ef652ff0ce"
      },
      "source": [
        "s={1,2,3,4}\n",
        "print(s)\n",
        "s=set(('a',1,'b',2))\n",
        "print(s)\n",
        "s=set(['apple','banana','apple'])\n",
        "print(s)\n",
        "s=set({'早安':'Good Morning','你好':'Hello'})\n",
        "print(s)\n",
        "s=set('racecar')\n",
        "print(s)"
      ],
      "execution_count": 26,
      "outputs": [
        {
          "output_type": "stream",
          "text": [
            "{1, 2, 3, 4}\n",
            "{1, 'a', 2, 'b'}\n",
            "{'apple', 'banana'}\n",
            "{'你好', '早安'}\n",
            "{'a', 'e', 'c', 'r'}\n"
          ],
          "name": "stdout"
        }
      ]
    },
    {
      "cell_type": "code",
      "metadata": {
        "id": "WXUqoZW8Ismf",
        "colab_type": "code",
        "colab": {
          "base_uri": "https://localhost:8080/",
          "height": 70
        },
        "outputId": "8b82be3e-fe93-45cf-9738-c1414e390e27"
      },
      "source": [
        "s=set('tiger')\n",
        "print(s)\n",
        "s.add('z')\n",
        "print(s)\n",
        "s.remove('t')\n",
        "print(s)"
      ],
      "execution_count": 33,
      "outputs": [
        {
          "output_type": "stream",
          "text": [
            "{'g', 't', 'e', 'r', 'i'}\n",
            "{'z', 'g', 't', 'e', 'r', 'i'}\n",
            "{'z', 'g', 'e', 'r', 'i'}\n"
          ],
          "name": "stdout"
        }
      ]
    },
    {
      "cell_type": "code",
      "metadata": {
        "id": "uxZKt6TZMGzN",
        "colab_type": "code",
        "colab": {
          "base_uri": "https://localhost:8080/",
          "height": 70
        },
        "outputId": "60ce1921-eae1-4c08-c830-7a69af88757e"
      },
      "source": [
        "a=set('tiger')\n",
        "b=set('bear')\n",
        "print(a)\n",
        "print(b)\n",
        "a=set('tiger')\n",
        "b=set('bear')\n",
        "print(a|b)"
      ],
      "execution_count": 37,
      "outputs": [
        {
          "output_type": "stream",
          "text": [
            "{'g', 't', 'e', 'r', 'i'}\n",
            "{'r', 'a', 'e', 'b'}\n",
            "{'a', 'b', 't', 'e', 'g', 'r', 'i'}\n"
          ],
          "name": "stdout"
        }
      ]
    },
    {
      "cell_type": "code",
      "metadata": {
        "id": "MkuOw2QoM6tR",
        "colab_type": "code",
        "colab": {
          "base_uri": "https://localhost:8080/",
          "height": 34
        },
        "outputId": "79321621-3de7-45f1-9dd2-127c05ae8604"
      },
      "source": [
        "a=set('tiger')\n",
        "b=set('bear')\n",
        "print(a&b)"
      ],
      "execution_count": 38,
      "outputs": [
        {
          "output_type": "stream",
          "text": [
            "{'e', 'r'}\n"
          ],
          "name": "stdout"
        }
      ]
    },
    {
      "cell_type": "code",
      "metadata": {
        "id": "iKQ6Xxo4NSLT",
        "colab_type": "code",
        "colab": {
          "base_uri": "https://localhost:8080/",
          "height": 34
        },
        "outputId": "931f6329-0b61-4fc1-f9bb-082893a9a754"
      },
      "source": [
        "a=set('tiger')\n",
        "b=set('bear')\n",
        "print(a-b)"
      ],
      "execution_count": 39,
      "outputs": [
        {
          "output_type": "stream",
          "text": [
            "{'t', 'g', 'i'}\n"
          ],
          "name": "stdout"
        }
      ]
    },
    {
      "cell_type": "code",
      "metadata": {
        "id": "PWrr0wseNyio",
        "colab_type": "code",
        "colab": {
          "base_uri": "https://localhost:8080/",
          "height": 34
        },
        "outputId": "fa3cb2b4-4ffd-49f1-d4fe-89ed6bb975be"
      },
      "source": [
        "a=set('tiger')\n",
        "b=set('bear')\n",
        "print(a^b)"
      ],
      "execution_count": 40,
      "outputs": [
        {
          "output_type": "stream",
          "text": [
            "{'g', 'a', 'b', 't', 'i'}\n"
          ],
          "name": "stdout"
        }
      ]
    },
    {
      "cell_type": "code",
      "metadata": {
        "id": "Gn8WvB1DN-xX",
        "colab_type": "code",
        "colab": {
          "base_uri": "https://localhost:8080/",
          "height": 34
        },
        "outputId": "427d73ff-916e-456a-ae9a-d2506babc1f6"
      },
      "source": [
        "a=set('tiger')\n",
        "b=set('tigers')\n",
        "print(a<=b)"
      ],
      "execution_count": 41,
      "outputs": [
        {
          "output_type": "stream",
          "text": [
            "True\n"
          ],
          "name": "stdout"
        }
      ]
    },
    {
      "cell_type": "code",
      "metadata": {
        "id": "sLvCWvZEOU6R",
        "colab_type": "code",
        "colab": {
          "base_uri": "https://localhost:8080/",
          "height": 34
        },
        "outputId": "ce93d13d-f088-4b11-f7a9-a0b20997a20f"
      },
      "source": [
        "a=set('tiger')\n",
        "b=set('tigers')\n",
        "print(a<b)"
      ],
      "execution_count": 42,
      "outputs": [
        {
          "output_type": "stream",
          "text": [
            "True\n"
          ],
          "name": "stdout"
        }
      ]
    },
    {
      "cell_type": "code",
      "metadata": {
        "id": "VcQ34akwOYds",
        "colab_type": "code",
        "colab": {
          "base_uri": "https://localhost:8080/",
          "height": 34
        },
        "outputId": "ee71f52a-56ef-4f90-b41a-4d57df74284d"
      },
      "source": [
        "a=set('tiger')\n",
        "b=set('tigers')\n",
        "print(a>=b)"
      ],
      "execution_count": 43,
      "outputs": [
        {
          "output_type": "stream",
          "text": [
            "False\n"
          ],
          "name": "stdout"
        }
      ]
    },
    {
      "cell_type": "code",
      "metadata": {
        "id": "7hwBIOb3OcHM",
        "colab_type": "code",
        "colab": {
          "base_uri": "https://localhost:8080/",
          "height": 34
        },
        "outputId": "8c1abc5c-3fe1-4e73-baa5-01ea3e5c02dd"
      },
      "source": [
        "a=set('tiger')\n",
        "b=set('tigers')\n",
        "print(a>b)"
      ],
      "execution_count": 44,
      "outputs": [
        {
          "output_type": "stream",
          "text": [
            "False\n"
          ],
          "name": "stdout"
        }
      ]
    },
    {
      "cell_type": "code",
      "metadata": {
        "id": "FoASbMp6OfGR",
        "colab_type": "code",
        "colab": {
          "base_uri": "https://localhost:8080/",
          "height": 140
        },
        "outputId": "460088bb-c1f3-4586-f84f-a3d0107e19ff"
      },
      "source": [
        "代辦事項=[]\n",
        "工作=input('請輸入代辦事項?')\n",
        "代辦事項.append(工作)\n",
        "工作=input('請輸入代辦事項?')\n",
        "代辦事項.append(工作)\n",
        "工作=input('請輸入代辦事項?')\n",
        "代辦事項.append(工作)\n",
        "工作=input('請輸入代辦事項?')\n",
        "代辦事項.append(工作)\n",
        "工作=input('請輸入代辦事項?')\n",
        "代辦事項.append(工作)\n",
        "print(代辦事項.pop(0),代辦事項.pop(0),代辦事項)\n",
        "print(代辦事項.pop(),代辦事項)\n"
      ],
      "execution_count": 45,
      "outputs": [
        {
          "output_type": "stream",
          "text": [
            "請輸入代辦事項?打球\n",
            "請輸入代辦事項?閱讀\n",
            "請輸入代辦事項?吃飯\n",
            "請輸入代辦事項?借書\n",
            "請輸入代辦事項?寫程式\n",
            "打球 閱讀 ['吃飯', '借書', '寫程式']\n",
            "寫程式 ['吃飯', '借書']\n"
          ],
          "name": "stdout"
        }
      ]
    },
    {
      "cell_type": "code",
      "metadata": {
        "id": "XLy39ODoP0yD",
        "colab_type": "code",
        "colab": {
          "base_uri": "https://localhost:8080/",
          "height": 87
        },
        "outputId": "dad479dc-f9a4-4706-d180-f0c258dffe22"
      },
      "source": [
        "字典={'dog':'狗','fish':'魚','cat':'貓','pig':'豬'}\n",
        "print(字典.keys())\n",
        "print(字典)\n",
        "英文=input('請輸入一個英文單字?')\n",
        "print(字典.get(英文,'字典找不到該單字'))\n"
      ],
      "execution_count": 47,
      "outputs": [
        {
          "output_type": "stream",
          "text": [
            "dict_keys(['dog', 'fish', 'cat', 'pig'])\n",
            "{'dog': '狗', 'fish': '魚', 'cat': '貓', 'pig': '豬'}\n",
            "請輸入一個英文單字?dog\n",
            "狗\n"
          ],
          "name": "stdout"
        }
      ]
    },
    {
      "cell_type": "code",
      "metadata": {
        "id": "bX7G_R7JRXL5",
        "colab_type": "code",
        "colab": {
          "base_uri": "https://localhost:8080/",
          "height": 87
        },
        "outputId": "e435ebb7-7578-4c9e-d021-34c620a9dfb6"
      },
      "source": [
        "字典={'dog':'狗','fish':'魚','cat':'貓','pig':'豬'}\n",
        "print(字典.keys())\n",
        "print(字典)\n",
        "英文=input('請輸入一個英文單字?')\n",
        "print(字典.get(英文,'字典找不到該單字'))\n"
      ],
      "execution_count": 48,
      "outputs": [
        {
          "output_type": "stream",
          "text": [
            "dict_keys(['dog', 'fish', 'cat', 'pig'])\n",
            "{'dog': '狗', 'fish': '魚', 'cat': '貓', 'pig': '豬'}\n",
            "請輸入一個英文單字?turtle\n",
            "字典找不到該單字\n"
          ],
          "name": "stdout"
        }
      ]
    },
    {
      "cell_type": "code",
      "metadata": {
        "id": "u1NwKn9vRrfB",
        "colab_type": "code",
        "colab": {
          "base_uri": "https://localhost:8080/",
          "height": 34
        },
        "outputId": "6c20aec5-800f-4777-fb02-bd3d6c8d5b47"
      },
      "source": [
        "詩='春眠不覺曉，處處聞啼鳥。夜來風雨聲，花落知多少。'\n",
        "字=set(詩)\n",
        "字.remove('，')\n",
        "字.remove('。')\n",
        "print(字)"
      ],
      "execution_count": 49,
      "outputs": [
        {
          "output_type": "stream",
          "text": [
            "{'處', '覺', '多', '知', '眠', '啼', '曉', '聲', '聞', '風', '來', '夜', '鳥', '不', '花', '春', '少', '雨', '落'}\n"
          ],
          "name": "stdout"
        }
      ]
    },
    {
      "cell_type": "code",
      "metadata": {
        "id": "PRfgOKJ_Snuu",
        "colab_type": "code",
        "colab": {
          "base_uri": "https://localhost:8080/",
          "height": 52
        },
        "outputId": "b269ae76-b4ef-4f05-fcd5-a4425b3b28b9"
      },
      "source": [
        "星期=['Sunday','Monday','Tuesday','Wednesday','Thursday','Friday','Saturday']\n",
        "月份=['January','February','March','April','May','June',\\\n",
        "    'July','August','September','October','November','December']\n",
        "dic={'week':星期,'month':月份}\n",
        "print(dic['month'])\n",
        "print(dic['month'][7])"
      ],
      "execution_count": 52,
      "outputs": [
        {
          "output_type": "stream",
          "text": [
            "['January', 'February', 'March', 'April', 'May', 'June', 'July', 'August', 'September', 'October', 'November', 'December']\n",
            "August\n"
          ],
          "name": "stdout"
        }
      ]
    },
    {
      "cell_type": "code",
      "metadata": {
        "id": "m_S0oj-TUsb8",
        "colab_type": "code",
        "colab": {}
      },
      "source": [
        ""
      ],
      "execution_count": 0,
      "outputs": []
    }
  ]
}