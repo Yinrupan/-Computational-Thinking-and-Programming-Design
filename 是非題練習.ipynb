{
  "nbformat": 4,
  "nbformat_minor": 0,
  "metadata": {
    "colab": {
      "name": "是非題練習.ipynb",
      "provenance": []
    },
    "kernelspec": {
      "name": "python3",
      "display_name": "Python 3"
    }
  },
  "cells": [
    {
      "cell_type": "code",
      "metadata": {
        "id": "Un-mb5zCKT_V",
        "colab_type": "code",
        "colab": {}
      },
      "source": [
        "(B) )1. 下列何者代表 Python 的註解? (A) // (B) # (C) /* (D)@"
      ],
      "execution_count": 0,
      "outputs": []
    },
    {
      "cell_type": "code",
      "metadata": {
        "id": "f_DDXON3KqrN",
        "colab_type": "code",
        "colab": {}
      },
      "source": [
        "(A ) 1. 在 Python 程式語言中,下列何者的變數名稱是正確的? (A)_if (B) if (C)\n",
        "in (D) 2f。"
      ],
      "execution_count": 0,
      "outputs": []
    },
    {
      "cell_type": "code",
      "metadata": {
        "id": "z5QYEdk4LARQ",
        "colab_type": "code",
        "colab": {}
      },
      "source": [
        "(B) ) 1. 在 Python 程式語言中,利用 input 指令讀到的值,型態為?\n",
        "(A) 數值 (B) 字串 (C) 浮點數 (D) 以上皆否。"
      ],
      "execution_count": 0,
      "outputs": []
    },
    {
      "cell_type": "code",
      "metadata": {
        "id": "fQ1vaa2dLM8v",
        "colab_type": "code",
        "colab": {}
      },
      "source": [
        "(C ) 2. 在 Python程式語言中,若a = \"12\"、b=\"34\",則 print(a+b)結果為?\n",
        "(A) 46 (B) 56 (C) 1234 (D) 以上皆否。"
      ],
      "execution_count": 0,
      "outputs": []
    },
    {
      "cell_type": "code",
      "metadata": {
        "id": "isgEYv6qLP0I",
        "colab_type": "code",
        "colab": {}
      },
      "source": [
        "(D )1. 在print敘述中哪一個為錯誤\n",
        "(A) 利用 \\ 可輸出 \\ (B) 利用 \\' 可輸出 ' (C) 要輸出的字串可利用雙引號或單引號括住\n",
        "(D) 每一次執行完print敘述後都不會跳行,所以也不必使用end來輔助"
      ],
      "execution_count": 0,
      "outputs": []
    },
    {
      "cell_type": "code",
      "metadata": {
        "id": "X38lepzULSPM",
        "colab_type": "code",
        "colab": {}
      },
      "source": [
        "(A )1. 假設利用 num = input() 輸入10,再執行 a = num + 100,試問其a值為\n",
        "(A) 110 (B) 120 (C) 130 (D) 產生錯誤訊息"
      ],
      "execution_count": 0,
      "outputs": []
    },
    {
      "cell_type": "code",
      "metadata": {
        "id": "3KRSX_bqLZMn",
        "colab_type": "code",
        "colab": {}
      },
      "source": [
        "1 ( O ):設計一個好的變數名稱,可以方便自己與他人未來閱讀程式。\n",
        "2 ( O ):為程式加上註解是程式設計的好習慣。\n",
        "3 ( O ):Python的變數會針對所給的內容自行設定資料型態。\n",
        "4 ( X ):Python的變數名稱不可用非英文字元的其它語言。#可用\n",
        "5 ( X ):對Python而言John與john算是相同的變數名稱。#不相同\n",
        "6 ( O ):_5z是Python合法的變數名稱。\n",
        "7 ( X ):有一個函數名稱是str( ),如果使用str做變數名稱,將造成程式錯誤,然後終\n",
        "止執行。#程式正確\n",
        "8 ( X ):del既可當作刪除變數,也可將它設為變數名稱使用。#都不行\n",
        "9 ( X ):Python允許一道敘述分多行撰寫,方法是在未完成敘述右邊加上”/”符號,\n",
        "Python解譯器會將下一行敘述視為是這一行的延伸。#”/”符號逸出字元\n",
        "10 ( X ):如果有一個變數x,當執行type(x)後得到float,由此可以判斷變數x是整\n",
        "數。#float是浮點數會有小數點\n",
        "11 ( X ):Python語言的整數限制在-2147483648和2147483647之間。#沒有這東西\n",
        "12 ( O ):帶有小數點的數字稱浮點數。\n",
        "13 ( O ):程式設計時可能發生某個變數在某一程式碼運算階段是整數資料型態,後\n",
        "來在另外一個程式碼運作階段變成字串資料型態。\n",
        "14 ( X ):int( )函數可以強制將所有的字串轉成整數。#int可將整數,浮點數與字串當作輸入轉換成整數\n",
        "15 ( O ):布林值的可能值有2種,分別是True和False。\n",
        "參考題庫\n",
        "\n",
        "是非題\n",
        "\n",
        "16 ( X ):如果布林值變數是False,經int( )。\n",
        "17 ( O ):如果字串太長想分成不同行輸出,可以使用3個單引號包夾此字串。\n",
        "18 ( X ):字串和整數相乘將產生語法錯誤。#可以產生\n",
        "19 ( O ):含有”\\”的字元稱逸出字元(Escape Character)。\n",
        "20 ( O ):str( )除了可以將數值資料轉成字串,也可以設定一個空字串。\n",
        "21 ( O ):print( )函數內配合使用format( )時,輸出格式區內的變數使用{ }表示。\n",
        "22 ( X ):print( )函數只能將資料輸出至螢幕。#可顯示\n",
        "23 ( X ):使用input( )函數讀取數字資料時,用type( )函數列出所讀取的資料,可以\n",
        "得到int的結果。#要用print()函數"
      ],
      "execution_count": 0,
      "outputs": []
    },
    {
      "cell_type": "code",
      "metadata": {
        "id": "4zo1dYTAL3vP",
        "colab_type": "code",
        "colab": {}
      },
      "source": [
        "1 ( A ):如果有一個整數變數x,當執行type(x)後可以得到什麼傳回值?\n",
        "A:int B:float C:str D:bool\n",
        "2 ( B ):如果有一個浮點數變數x,當執行type(x)後可以得到什麼傳回值?\n",
        "A:int B:float C:str D:array\n",
        "3 ( D ):如果有一個布林值變數x,當執行type(x)後可以得到什麼傳回值?\n",
        "A:int B:float C:str D:bool\n",
        "4 ( C ):如果有一個字串變數x,當執行type(x)後可以得到什麼傳回值?\n",
        "A:int B:float C:str D:array\n",
        "5 ( A ):下列那一個逸出字元(Escape Character)可以讓下次輸出時跳到下一行輸出。\n",
        "A:\\n#換行 B:\\f C:\\t#跳八格 D:\\b\n",
        "6 ( A ):下列那一個函數可以列出特定函數的使用說明。\n",
        "A:help( ) B:print( ) C:input( ) D:dir( )\n",
        "7 ( B ):print( )函數的那一個參數可以設定各筆資料間的分隔字元。\n",
        "A:value B:sep C:end D:file\n",
        "8 ( C ):print( )函數的那一個參數可以設定下次print( )資料輸出時不要換行輸出。\n",
        "A:value B:sep C:end D:file\n",
        "9 ( A ):可用於格式化整數輸出。\n",
        "A:%d B:%f C:%s D:%h\n",
        "10 ( B ):可用於格式化浮點數輸出。\n",
        "A:%d B:%f C:%s D:%h\n",
        "11 ( C ):可用於格式化字串輸出。\n",
        "A:%d B:%f C:%s D:%h\n",
        "12 ( A ):使用print( )配合format( )時,那一個參數可以設定靠右對齊輸出。\n",
        "A:> B:< C:^ D:!\n",
        "13 ( B ):使用print( )配合format( )時,那一個參數可以設定靠左對齊輸出。\n",
        "A:> B:< C:^ D:!\n",
        "14 ( C ):使用print( )配合format( )時,那一個參數可以設定置中對齊輸出。\n",
        "A:> B:< C:^ D:!\n",
        "15 ( D ):print( )函數的那一個參數可以設定輸出至一般檔案。\n",
        "A:value B:sep C:end D:file"
      ],
      "execution_count": 0,
      "outputs": []
    },
    {
      "cell_type": "code",
      "metadata": {
        "id": "M535taomMs-V",
        "colab_type": "code",
        "colab": {}
      },
      "source": [
        "1. 在 Python 程式語言中,若 a = \"12\",則print(a*2)結果為? 1212\n",
        "2. 在 Python 程式語言中,若 a = 13,則 print(a // 5) 結果為? 2\n",
        "3. 在 Python 程式語言中,若 a = 13,則 print(a << 2) 結果為? 52\n",
        "4. 在 Python 程式語言中,若 a = 12,則 print(a**2) 結果為? 144\n",
        "5. 在 Python 程式語言中,若 a = 13,則 print(a % 5) 結果為? 3\n",
        "6. 執行 print((3 ** 2 + 4 ** 2) * 5) 結果為? 125"
      ],
      "execution_count": 0,
      "outputs": []
    },
    {
      "cell_type": "code",
      "metadata": {
        "id": "511thfoiNieW",
        "colab_type": "code",
        "colab": {}
      },
      "source": [
        "( A )1. 有 一敘述a = 5/2 + 5//2 + 2**3 + 5%2,試問 a 的值為何?\n",
        "(A) 13.5 (B) 14 (C) 14.5 (D) 15\n",
        "( B )1. 試問下列哪一個為偽?\n",
        "(A) a = a + 1和 a += 1具有一樣的功能\n",
        "(B) a =+ 1 表示 a = a +1\n",
        "(C) 若 a = 5,則 a //= 2,最後的a為2\n",
        "(D) a, b = 100, 200,表示a為100,b為200,這表示可以指定多個變數\n",
        "( D )1. 試問下列敘述何者為偽?\n",
        "(A) 運算子是一符號,其具有特定的功能\n",
        "(B) 運算子 =,表示指定的意思,和數學的相等是不一樣的\n",
        "(C) 運算子 //,表示整數除法,亦即 9 // 2,其結果為4\n",
        "(D) a = a + 1和 a++的結果是一樣的#a += 1\n",
        "(A)1. 若有下列敘述\n",
        "執行時以 100,200加以輸入,則最後的輸出結果為\n",
        "(A) 102 (B) 100.0 (C) 2 (D) 3\n"
      ],
      "execution_count": 0,
      "outputs": []
    },
    {
      "cell_type": "code",
      "metadata": {
        "id": "uoyQ_IjnN4Ol",
        "colab_type": "code",
        "colab": {}
      },
      "source": [
        "1 ( O ):”%”是用於求餘數。\n",
        "2 ( X ):“//”是用於求次方。#整數除法\n",
        "3 ( X ):乘法、除法、次方的運算優先順序相同,會依照出現順序由左到右運算。#右到左\n",
        "4 ( X ):”x %= y”相當於”x = y % x”。#不相當\n",
        "5 ( O ):下列2個公式的意義相同:a /= b與 a = a / b\n",
        "6 ( X ):有一道敘述”x, y, z = 10, 20, 30”,最後得到x值是30。#10\n",
        "7 ( X ):有一道敘述”z = divmod(9, 5)”,可以得到z是4。#(1, 4)\n",
        "8 ( X ):x值是100.5,經過round(x)處理,可以傳回101。#100\n",
        "9 ( X ):pow(x,y)可以獲得x開根號y的值。#x的y平方\n",
        "\n",
        "1 ( A ):round(4.5)的值是多少。\n",
        "A:4 B:5 C:True D:False"
      ],
      "execution_count": 0,
      "outputs": []
    },
    {
      "cell_type": "code",
      "metadata": {
        "id": "9sq2a-NLOECi",
        "colab_type": "code",
        "colab": {}
      },
      "source": [
        "(D ) 1. 在 Python 程式語言中,不等於的邏輯運算子#and or not為? (A) !=#比較運算子 (B) <> (C) ><(D) 以上皆否。\n",
        "1 ( X ):”=”是關係運算子的等於。#指定運算子\n",
        "2 ( X ):”&&”是邏輯運算子的AND。#無此說法\n",
        "3 ( O ):下列變數x會傳回True。\n",
        "4 ( O ):下列變數x會傳回False。\n",
        "1 ( D ):下列那一個是不等於關係運算子。 (A) >= (B) <> (C) <= (D) !=#比較運算子\n",
        "2 ( B ):有一個運算是如下:x = A op B\n",
        "如果A是True,B是False,結果列印x是True,則op是什麼?\n",
        "(A) and (B)or (C) not (D)=="
      ],
      "execution_count": 0,
      "outputs": []
    },
    {
      "cell_type": "code",
      "metadata": {
        "id": "EMTFZp2AOgGh",
        "colab_type": "code",
        "colab": {}
      },
      "source": [
        "bc1. 下列哪些是合法的字串?\n",
        "(A) \"444\" (B) checkered_flag (C)'finish line' (D) \"99bbaalloonnss\" (E) 'combo\"\n",
        "1 ( X ):Python是允許執行字串相加,產生新字串。也允許字串相減,產生新字串。\n"
      ],
      "execution_count": 0,
      "outputs": []
    }
  ]
}