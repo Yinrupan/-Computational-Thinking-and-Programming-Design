{
  "nbformat": 4,
  "nbformat_minor": 0,
  "metadata": {
    "colab": {
      "name": "week16-a108260010.ipynb",
      "provenance": []
    },
    "kernelspec": {
      "name": "python3",
      "display_name": "Python 3"
    }
  },
  "cells": [
    {
      "cell_type": "code",
      "metadata": {
        "id": "0heh13e4sxQ3",
        "colab_type": "code",
        "colab": {
          "base_uri": "https://localhost:8080/",
          "height": 102
        },
        "outputId": "63f70bf9-f003-4c9e-8147-7282dd77984d"
      },
      "source": [
        "sum=0\n",
        "for i range(1,10,2):\n",
        "    sum=sum+i\n",
        "    print(\"when i is\",i,\"the sum is\",sum )"
      ],
      "execution_count": 1,
      "outputs": [
        {
          "output_type": "stream",
          "text": [
            "when i is 1 the sum is 1\n",
            "when i is 3 the sum is 4\n",
            "when i is 5 the sum is 9\n",
            "when i is 7 the sum is 16\n",
            "when i is 9 the sum is 25\n"
          ],
          "name": "stdout"
        }
      ]
    },
    {
      "cell_type": "code",
      "metadata": {
        "id": "OUn3wRzex9n_",
        "colab_type": "code",
        "colab": {}
      },
      "source": [
        "start=3\n",
        "end=13\n",
        "step=3\n",
        "sum=0\n",
        "for in in range(1,)"
      ],
      "execution_count": 0,
      "outputs": []
    },
    {
      "cell_type": "code",
      "metadata": {
        "id": "o2IpBw7azJ0e",
        "colab_type": "code",
        "colab": {
          "base_uri": "https://localhost:8080/",
          "height": 170
        },
        "outputId": "bf757eb6-5f13-420b-bd73-2f047307041a"
      },
      "source": [
        "for i in range(1,10,1):\n",
        "  for j in range(1,10,1):\n",
        "    print(i,\"*\",j,\"=\",i*j,\"\\t\",sep=\"\",end=\"\")\n",
        "  print()"
      ],
      "execution_count": 18,
      "outputs": [
        {
          "output_type": "stream",
          "text": [
            "1*1=1\t1*2=2\t1*3=3\t1*4=4\t1*5=5\t1*6=6\t1*7=7\t1*8=8\t1*9=9\t\n",
            "2*1=2\t2*2=4\t2*3=6\t2*4=8\t2*5=10\t2*6=12\t2*7=14\t2*8=16\t2*9=18\t\n",
            "3*1=3\t3*2=6\t3*3=9\t3*4=12\t3*5=15\t3*6=18\t3*7=21\t3*8=24\t3*9=27\t\n",
            "4*1=4\t4*2=8\t4*3=12\t4*4=16\t4*5=20\t4*6=24\t4*7=28\t4*8=32\t4*9=36\t\n",
            "5*1=5\t5*2=10\t5*3=15\t5*4=20\t5*5=25\t5*6=30\t5*7=35\t5*8=40\t5*9=45\t\n",
            "6*1=6\t6*2=12\t6*3=18\t6*4=24\t6*5=30\t6*6=36\t6*7=42\t6*8=48\t6*9=54\t\n",
            "7*1=7\t7*2=14\t7*3=21\t7*4=28\t7*5=35\t7*6=42\t7*7=49\t7*8=56\t7*9=63\t\n",
            "8*1=8\t8*2=16\t8*3=24\t8*4=32\t8*5=40\t8*6=48\t8*7=56\t8*8=64\t8*9=72\t\n",
            "9*1=9\t9*2=18\t9*3=27\t9*4=36\t9*5=45\t9*6=54\t9*7=63\t9*8=72\t9*9=81\t\n"
          ],
          "name": "stdout"
        }
      ]
    },
    {
      "cell_type": "code",
      "metadata": {
        "id": "I0nDiaZn1vtG",
        "colab_type": "code",
        "colab": {
          "base_uri": "https://localhost:8080/",
          "height": 85
        },
        "outputId": "8ccc0f0f-b573-4d89-f677-ff105d343da5"
      },
      "source": [
        "for i in range(6):\n",
        "  print(i)\n",
        "  if i == 3:\n",
        "      break\n",
        "  "
      ],
      "execution_count": 21,
      "outputs": [
        {
          "output_type": "stream",
          "text": [
            "0\n",
            "1\n",
            "2\n",
            "3\n"
          ],
          "name": "stdout"
        }
      ]
    },
    {
      "cell_type": "code",
      "metadata": {
        "id": "j_DjR5O72koh",
        "colab_type": "code",
        "colab": {
          "base_uri": "https://localhost:8080/",
          "height": 187
        },
        "outputId": "1765c191-a53e-4e7e-f334-acf49a496c47"
      },
      "source": [
        "n=0\n",
        "for i in range(6):\n",
        "  print(i)\n",
        "  if i % 2== 0:\n",
        "   print(i,\"is even\")\n",
        "else:\n",
        "   print(i,\"is odd\")  \n"
      ],
      "execution_count": 32,
      "outputs": [
        {
          "output_type": "stream",
          "text": [
            "0\n",
            "0 is even\n",
            "1\n",
            "2\n",
            "2 is even\n",
            "3\n",
            "4\n",
            "4 is even\n",
            "5\n",
            "5 is odd\n"
          ],
          "name": "stdout"
        }
      ]
    }
  ]
}